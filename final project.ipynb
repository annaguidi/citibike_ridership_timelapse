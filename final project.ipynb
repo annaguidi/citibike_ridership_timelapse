{
 "cells": [
  {
   "cell_type": "code",
   "execution_count": 1,
   "metadata": {},
   "outputs": [],
   "source": [
    "import os\n",
    "import sys\n",
    "module_path = os.path.abspath(os.path.join('..'))\n",
    "if module_path not in sys.path:\n",
    "    sys.path.append(module_path)\n",
    "    \n",
    "\n",
    "from IPython.display import IFrame\n",
    "import pandas as pd\n",
    "import geopandas as gpd\n",
    "import matplotlib.pyplot as plt\n",
    "import numpy as np\n",
    "import missingno as msno\n",
    "import seaborn as sns\n",
    "import matplotlib.patches as patches\n",
    "import warnings\n",
    "import networkx as nx\n",
    "import osmnx as ox\n",
    "import requests\n",
    "import matplotlib.cm as cm\n",
    "import matplotlib.colors as colors\n",
    "ox.config(use_cache=True, log_console=True)\n",
    "warnings.filterwarnings('ignore')\n",
    "warnings.simplefilter('ignore')\n",
    "from IPython.display import IFrame\n",
    "\n",
    "\n",
    "%matplotlib inline\n",
    "%load_ext autoreload\n",
    "%autoreload 2\n",
    "\n",
    "# IFrame(src='https://commons.pratt.edu/savi/', width=700, height=400)"
   ]
  },
  {
   "cell_type": "code",
   "execution_count": 2,
   "metadata": {},
   "outputs": [],
   "source": [
    "import urllib"
   ]
  },
  {
   "cell_type": "code",
   "execution_count": 3,
   "metadata": {},
   "outputs": [],
   "source": [
    "file_url = 'https://s3.amazonaws.com/tripdata/202003-citibike-tripdata.csv.zip'"
   ]
  },
  {
   "cell_type": "code",
   "execution_count": 4,
   "metadata": {},
   "outputs": [
    {
     "data": {
      "text/plain": [
       "('data/input/202003-citibike-tripdata.zip',\n",
       " <http.client.HTTPMessage at 0x1056fa700>)"
      ]
     },
     "execution_count": 4,
     "metadata": {},
     "output_type": "execute_result"
    }
   ],
   "source": [
    "urllib.request.urlretrieve(file_url, 'data/input/202003-citibike-tripdata.zip')"
   ]
  },
  {
   "cell_type": "code",
   "execution_count": 6,
   "metadata": {},
   "outputs": [],
   "source": [
    "import zipfile"
   ]
  },
  {
   "cell_type": "code",
   "execution_count": 7,
   "metadata": {},
   "outputs": [],
   "source": [
    "zipfile.ZipFile(f'data/input/202003-citibike-tripdata.zip').extractall(f'data/input/')"
   ]
  },
  {
   "cell_type": "code",
   "execution_count": 12,
   "metadata": {},
   "outputs": [],
   "source": [
    "citibike = pd.read_csv('data/input/202003-citibike-tripdata.csv')"
   ]
  },
  {
   "cell_type": "code",
   "execution_count": 20,
   "metadata": {},
   "outputs": [
    {
     "data": {
      "text/html": [
       "<div>\n",
       "<style scoped>\n",
       "    .dataframe tbody tr th:only-of-type {\n",
       "        vertical-align: middle;\n",
       "    }\n",
       "\n",
       "    .dataframe tbody tr th {\n",
       "        vertical-align: top;\n",
       "    }\n",
       "\n",
       "    .dataframe thead th {\n",
       "        text-align: right;\n",
       "    }\n",
       "</style>\n",
       "<table border=\"1\" class=\"dataframe\">\n",
       "  <thead>\n",
       "    <tr style=\"text-align: right;\">\n",
       "      <th></th>\n",
       "      <th>tripduration</th>\n",
       "      <th>starttime</th>\n",
       "      <th>stoptime</th>\n",
       "      <th>start station id</th>\n",
       "      <th>start station name</th>\n",
       "      <th>start station latitude</th>\n",
       "      <th>start station longitude</th>\n",
       "      <th>end station id</th>\n",
       "      <th>end station name</th>\n",
       "      <th>end station latitude</th>\n",
       "      <th>end station longitude</th>\n",
       "      <th>bikeid</th>\n",
       "      <th>usertype</th>\n",
       "      <th>birth year</th>\n",
       "      <th>gender</th>\n",
       "    </tr>\n",
       "  </thead>\n",
       "  <tbody>\n",
       "    <tr>\n",
       "      <th>0</th>\n",
       "      <td>1589</td>\n",
       "      <td>2020-03-01 00:00:03.6400</td>\n",
       "      <td>2020-03-01 00:26:32.9860</td>\n",
       "      <td>224</td>\n",
       "      <td>Spruce St &amp; Nassau St</td>\n",
       "      <td>40.711464</td>\n",
       "      <td>-74.005524</td>\n",
       "      <td>3574</td>\n",
       "      <td>Prospect Pl &amp; Underhill Ave</td>\n",
       "      <td>40.676969</td>\n",
       "      <td>-73.965790</td>\n",
       "      <td>16214</td>\n",
       "      <td>Subscriber</td>\n",
       "      <td>1980</td>\n",
       "      <td>1</td>\n",
       "    </tr>\n",
       "    <tr>\n",
       "      <th>1</th>\n",
       "      <td>389</td>\n",
       "      <td>2020-03-01 00:00:16.7560</td>\n",
       "      <td>2020-03-01 00:06:46.0620</td>\n",
       "      <td>293</td>\n",
       "      <td>Lafayette St &amp; E 8 St</td>\n",
       "      <td>40.730207</td>\n",
       "      <td>-73.991026</td>\n",
       "      <td>223</td>\n",
       "      <td>W 13 St &amp; 7 Ave</td>\n",
       "      <td>40.737815</td>\n",
       "      <td>-73.999947</td>\n",
       "      <td>29994</td>\n",
       "      <td>Subscriber</td>\n",
       "      <td>1991</td>\n",
       "      <td>2</td>\n",
       "    </tr>\n",
       "  </tbody>\n",
       "</table>\n",
       "</div>"
      ],
      "text/plain": [
       "   tripduration                 starttime                  stoptime  \\\n",
       "0          1589  2020-03-01 00:00:03.6400  2020-03-01 00:26:32.9860   \n",
       "1           389  2020-03-01 00:00:16.7560  2020-03-01 00:06:46.0620   \n",
       "\n",
       "   start station id     start station name  start station latitude  \\\n",
       "0               224  Spruce St & Nassau St               40.711464   \n",
       "1               293  Lafayette St & E 8 St               40.730207   \n",
       "\n",
       "   start station longitude  end station id             end station name  \\\n",
       "0               -74.005524            3574  Prospect Pl & Underhill Ave   \n",
       "1               -73.991026             223              W 13 St & 7 Ave   \n",
       "\n",
       "   end station latitude  end station longitude  bikeid    usertype  \\\n",
       "0             40.676969             -73.965790   16214  Subscriber   \n",
       "1             40.737815             -73.999947   29994  Subscriber   \n",
       "\n",
       "   birth year  gender  \n",
       "0        1980       1  \n",
       "1        1991       2  "
      ]
     },
     "execution_count": 20,
     "metadata": {},
     "output_type": "execute_result"
    }
   ],
   "source": [
    "citibike.head(2)"
   ]
  },
  {
   "cell_type": "code",
   "execution_count": 23,
   "metadata": {},
   "outputs": [
    {
     "data": {
      "text/plain": [
       "tripduration                 int64\n",
       "starttime                   object\n",
       "stoptime                    object\n",
       "start station id             int64\n",
       "start station name          object\n",
       "start station latitude     float64\n",
       "start station longitude    float64\n",
       "end station id               int64\n",
       "end station name            object\n",
       "end station latitude       float64\n",
       "end station longitude      float64\n",
       "bikeid                       int64\n",
       "usertype                    object\n",
       "birth year                   int64\n",
       "gender                       int64\n",
       "dtype: object"
      ]
     },
     "execution_count": 23,
     "metadata": {},
     "output_type": "execute_result"
    }
   ],
   "source": [
    "citibike.dtypes"
   ]
  },
  {
   "cell_type": "code",
   "execution_count": 31,
   "metadata": {},
   "outputs": [],
   "source": [
    "citibike['starttime'] = pd.to_datetime(citibike['starttime'])"
   ]
  },
  {
   "cell_type": "code",
   "execution_count": 32,
   "metadata": {},
   "outputs": [],
   "source": [
    "citibike['stoptime'] = pd.to_datetime(citibike['stoptime'])"
   ]
  },
  {
   "cell_type": "code",
   "execution_count": 44,
   "metadata": {},
   "outputs": [],
   "source": [
    "citibike['start_day'] = citibike['starttime'].map(lambda x: x.day)"
   ]
  },
  {
   "cell_type": "code",
   "execution_count": 49,
   "metadata": {},
   "outputs": [],
   "source": [
    "citibike['end_day'] = citibike['stoptime'].map(lambda x: x.day)"
   ]
  },
  {
   "cell_type": "code",
   "execution_count": 50,
   "metadata": {},
   "outputs": [],
   "source": [
    "citibike['end_day_2'] = citibike['stoptime'].dt.date"
   ]
  },
  {
   "cell_type": "code",
   "execution_count": 52,
   "metadata": {},
   "outputs": [],
   "source": [
    "citibike['start_day_2'] = citibike['starttime'].dt.date"
   ]
  },
  {
   "cell_type": "code",
   "execution_count": 54,
   "metadata": {},
   "outputs": [],
   "source": [
    "citibike['start_hour'] = citibike['starttime'].dt.hour"
   ]
  },
  {
   "cell_type": "code",
   "execution_count": 55,
   "metadata": {},
   "outputs": [],
   "source": [
    "citibike['end_hour'] = citibike['stoptime'].dt.hour"
   ]
  },
  {
   "cell_type": "code",
   "execution_count": 60,
   "metadata": {},
   "outputs": [
    {
     "data": {
      "text/plain": [
       "(1068457, 21)"
      ]
     },
     "execution_count": 60,
     "metadata": {},
     "output_type": "execute_result"
    }
   ],
   "source": [
    "citibike.shape"
   ]
  },
  {
   "cell_type": "markdown",
   "metadata": {},
   "source": [
    "## data check- every station only has 1 lat long, for start station and end station"
   ]
  },
  {
   "cell_type": "code",
   "execution_count": null,
   "metadata": {},
   "outputs": [],
   "source": []
  },
  {
   "cell_type": "code",
   "execution_count": 61,
   "metadata": {},
   "outputs": [
    {
     "data": {
      "text/html": [
       "<div>\n",
       "<style scoped>\n",
       "    .dataframe tbody tr th:only-of-type {\n",
       "        vertical-align: middle;\n",
       "    }\n",
       "\n",
       "    .dataframe tbody tr th {\n",
       "        vertical-align: top;\n",
       "    }\n",
       "\n",
       "    .dataframe thead th {\n",
       "        text-align: right;\n",
       "    }\n",
       "</style>\n",
       "<table border=\"1\" class=\"dataframe\">\n",
       "  <thead>\n",
       "    <tr style=\"text-align: right;\">\n",
       "      <th></th>\n",
       "      <th>tripduration</th>\n",
       "      <th>starttime</th>\n",
       "      <th>stoptime</th>\n",
       "      <th>start station id</th>\n",
       "      <th>start station name</th>\n",
       "      <th>start station latitude</th>\n",
       "      <th>start station longitude</th>\n",
       "      <th>end station id</th>\n",
       "      <th>end station name</th>\n",
       "      <th>end station latitude</th>\n",
       "      <th>...</th>\n",
       "      <th>bikeid</th>\n",
       "      <th>usertype</th>\n",
       "      <th>birth year</th>\n",
       "      <th>gender</th>\n",
       "      <th>start_day</th>\n",
       "      <th>end_day</th>\n",
       "      <th>end_day_2</th>\n",
       "      <th>start_day_2</th>\n",
       "      <th>start_hour</th>\n",
       "      <th>end_hour</th>\n",
       "    </tr>\n",
       "  </thead>\n",
       "  <tbody>\n",
       "    <tr>\n",
       "      <th>0</th>\n",
       "      <td>1589</td>\n",
       "      <td>2020-03-01 00:00:03.640</td>\n",
       "      <td>2020-03-01 00:26:32.986</td>\n",
       "      <td>224</td>\n",
       "      <td>Spruce St &amp; Nassau St</td>\n",
       "      <td>40.711464</td>\n",
       "      <td>-74.005524</td>\n",
       "      <td>3574</td>\n",
       "      <td>Prospect Pl &amp; Underhill Ave</td>\n",
       "      <td>40.676969</td>\n",
       "      <td>...</td>\n",
       "      <td>16214</td>\n",
       "      <td>Subscriber</td>\n",
       "      <td>1980</td>\n",
       "      <td>1</td>\n",
       "      <td>1</td>\n",
       "      <td>1</td>\n",
       "      <td>2020-03-01</td>\n",
       "      <td>2020-03-01</td>\n",
       "      <td>0</td>\n",
       "      <td>0</td>\n",
       "    </tr>\n",
       "    <tr>\n",
       "      <th>1</th>\n",
       "      <td>389</td>\n",
       "      <td>2020-03-01 00:00:16.756</td>\n",
       "      <td>2020-03-01 00:06:46.062</td>\n",
       "      <td>293</td>\n",
       "      <td>Lafayette St &amp; E 8 St</td>\n",
       "      <td>40.730207</td>\n",
       "      <td>-73.991026</td>\n",
       "      <td>223</td>\n",
       "      <td>W 13 St &amp; 7 Ave</td>\n",
       "      <td>40.737815</td>\n",
       "      <td>...</td>\n",
       "      <td>29994</td>\n",
       "      <td>Subscriber</td>\n",
       "      <td>1991</td>\n",
       "      <td>2</td>\n",
       "      <td>1</td>\n",
       "      <td>1</td>\n",
       "      <td>2020-03-01</td>\n",
       "      <td>2020-03-01</td>\n",
       "      <td>0</td>\n",
       "      <td>0</td>\n",
       "    </tr>\n",
       "  </tbody>\n",
       "</table>\n",
       "<p>2 rows × 21 columns</p>\n",
       "</div>"
      ],
      "text/plain": [
       "   tripduration               starttime                stoptime  \\\n",
       "0          1589 2020-03-01 00:00:03.640 2020-03-01 00:26:32.986   \n",
       "1           389 2020-03-01 00:00:16.756 2020-03-01 00:06:46.062   \n",
       "\n",
       "   start station id     start station name  start station latitude  \\\n",
       "0               224  Spruce St & Nassau St               40.711464   \n",
       "1               293  Lafayette St & E 8 St               40.730207   \n",
       "\n",
       "   start station longitude  end station id             end station name  \\\n",
       "0               -74.005524            3574  Prospect Pl & Underhill Ave   \n",
       "1               -73.991026             223              W 13 St & 7 Ave   \n",
       "\n",
       "   end station latitude  ...  bikeid    usertype birth year  gender  \\\n",
       "0             40.676969  ...   16214  Subscriber       1980       1   \n",
       "1             40.737815  ...   29994  Subscriber       1991       2   \n",
       "\n",
       "   start_day  end_day   end_day_2 start_day_2 start_hour  end_hour  \n",
       "0          1        1  2020-03-01  2020-03-01          0         0  \n",
       "1          1        1  2020-03-01  2020-03-01          0         0  \n",
       "\n",
       "[2 rows x 21 columns]"
      ]
     },
     "execution_count": 61,
     "metadata": {},
     "output_type": "execute_result"
    }
   ],
   "source": [
    "citibike.head(2)"
   ]
  },
  {
   "cell_type": "code",
   "execution_count": 64,
   "metadata": {},
   "outputs": [],
   "source": [
    "number_pickups = citibike.groupby([\"start station name\", \"start station latitude\" , \"start station longitude\", \"start_day\", \"start_hour\"]).size().to_frame('size').reset_index()"
   ]
  },
  {
   "cell_type": "code",
   "execution_count": 98,
   "metadata": {},
   "outputs": [
    {
     "data": {
      "text/html": [
       "<div>\n",
       "<style scoped>\n",
       "    .dataframe tbody tr th:only-of-type {\n",
       "        vertical-align: middle;\n",
       "    }\n",
       "\n",
       "    .dataframe tbody tr th {\n",
       "        vertical-align: top;\n",
       "    }\n",
       "\n",
       "    .dataframe thead th {\n",
       "        text-align: right;\n",
       "    }\n",
       "</style>\n",
       "<table border=\"1\" class=\"dataframe\">\n",
       "  <thead>\n",
       "    <tr style=\"text-align: right;\">\n",
       "      <th></th>\n",
       "      <th>station name</th>\n",
       "      <th>station latitude</th>\n",
       "      <th>station longitude</th>\n",
       "      <th>day</th>\n",
       "      <th>hour</th>\n",
       "      <th>number_pickups</th>\n",
       "    </tr>\n",
       "  </thead>\n",
       "  <tbody>\n",
       "    <tr>\n",
       "      <th>0</th>\n",
       "      <td>1 Ave &amp; E 110 St</td>\n",
       "      <td>40.792327</td>\n",
       "      <td>-73.938300</td>\n",
       "      <td>1</td>\n",
       "      <td>7</td>\n",
       "      <td>1</td>\n",
       "    </tr>\n",
       "    <tr>\n",
       "      <th>1</th>\n",
       "      <td>1 Ave &amp; E 110 St</td>\n",
       "      <td>40.792327</td>\n",
       "      <td>-73.938300</td>\n",
       "      <td>1</td>\n",
       "      <td>11</td>\n",
       "      <td>1</td>\n",
       "    </tr>\n",
       "    <tr>\n",
       "      <th>2</th>\n",
       "      <td>1 Ave &amp; E 110 St</td>\n",
       "      <td>40.792327</td>\n",
       "      <td>-73.938300</td>\n",
       "      <td>1</td>\n",
       "      <td>14</td>\n",
       "      <td>3</td>\n",
       "    </tr>\n",
       "    <tr>\n",
       "      <th>3</th>\n",
       "      <td>1 Ave &amp; E 110 St</td>\n",
       "      <td>40.792327</td>\n",
       "      <td>-73.938300</td>\n",
       "      <td>1</td>\n",
       "      <td>15</td>\n",
       "      <td>1</td>\n",
       "    </tr>\n",
       "    <tr>\n",
       "      <th>4</th>\n",
       "      <td>1 Ave &amp; E 110 St</td>\n",
       "      <td>40.792327</td>\n",
       "      <td>-73.938300</td>\n",
       "      <td>1</td>\n",
       "      <td>21</td>\n",
       "      <td>1</td>\n",
       "    </tr>\n",
       "    <tr>\n",
       "      <th>...</th>\n",
       "      <td>...</td>\n",
       "      <td>...</td>\n",
       "      <td>...</td>\n",
       "      <td>...</td>\n",
       "      <td>...</td>\n",
       "      <td>...</td>\n",
       "    </tr>\n",
       "    <tr>\n",
       "      <th>291670</th>\n",
       "      <td>Wythe Ave &amp; Metropolitan Ave</td>\n",
       "      <td>40.716887</td>\n",
       "      <td>-73.963198</td>\n",
       "      <td>31</td>\n",
       "      <td>13</td>\n",
       "      <td>1</td>\n",
       "    </tr>\n",
       "    <tr>\n",
       "      <th>291671</th>\n",
       "      <td>Wythe Ave &amp; Metropolitan Ave</td>\n",
       "      <td>40.716887</td>\n",
       "      <td>-73.963198</td>\n",
       "      <td>31</td>\n",
       "      <td>17</td>\n",
       "      <td>3</td>\n",
       "    </tr>\n",
       "    <tr>\n",
       "      <th>291672</th>\n",
       "      <td>Wythe Ave &amp; Metropolitan Ave</td>\n",
       "      <td>40.716887</td>\n",
       "      <td>-73.963198</td>\n",
       "      <td>31</td>\n",
       "      <td>18</td>\n",
       "      <td>1</td>\n",
       "    </tr>\n",
       "    <tr>\n",
       "      <th>291673</th>\n",
       "      <td>Wythe Ave &amp; Metropolitan Ave</td>\n",
       "      <td>40.716887</td>\n",
       "      <td>-73.963198</td>\n",
       "      <td>31</td>\n",
       "      <td>19</td>\n",
       "      <td>2</td>\n",
       "    </tr>\n",
       "    <tr>\n",
       "      <th>291674</th>\n",
       "      <td>Wythe Ave &amp; Metropolitan Ave</td>\n",
       "      <td>40.716887</td>\n",
       "      <td>-73.963198</td>\n",
       "      <td>31</td>\n",
       "      <td>21</td>\n",
       "      <td>1</td>\n",
       "    </tr>\n",
       "  </tbody>\n",
       "</table>\n",
       "<p>291675 rows × 6 columns</p>\n",
       "</div>"
      ],
      "text/plain": [
       "                        station name  station latitude  station longitude  \\\n",
       "0                   1 Ave & E 110 St         40.792327         -73.938300   \n",
       "1                   1 Ave & E 110 St         40.792327         -73.938300   \n",
       "2                   1 Ave & E 110 St         40.792327         -73.938300   \n",
       "3                   1 Ave & E 110 St         40.792327         -73.938300   \n",
       "4                   1 Ave & E 110 St         40.792327         -73.938300   \n",
       "...                              ...               ...                ...   \n",
       "291670  Wythe Ave & Metropolitan Ave         40.716887         -73.963198   \n",
       "291671  Wythe Ave & Metropolitan Ave         40.716887         -73.963198   \n",
       "291672  Wythe Ave & Metropolitan Ave         40.716887         -73.963198   \n",
       "291673  Wythe Ave & Metropolitan Ave         40.716887         -73.963198   \n",
       "291674  Wythe Ave & Metropolitan Ave         40.716887         -73.963198   \n",
       "\n",
       "        day  hour  number_pickups  \n",
       "0         1     7               1  \n",
       "1         1    11               1  \n",
       "2         1    14               3  \n",
       "3         1    15               1  \n",
       "4         1    21               1  \n",
       "...     ...   ...             ...  \n",
       "291670   31    13               1  \n",
       "291671   31    17               3  \n",
       "291672   31    18               1  \n",
       "291673   31    19               2  \n",
       "291674   31    21               1  \n",
       "\n",
       "[291675 rows x 6 columns]"
      ]
     },
     "execution_count": 98,
     "metadata": {},
     "output_type": "execute_result"
    }
   ],
   "source": [
    "number_pickups"
   ]
  },
  {
   "cell_type": "code",
   "execution_count": 69,
   "metadata": {},
   "outputs": [],
   "source": [
    "number_dropoffs = citibike.groupby([\"end station name\", \"end station latitude\" , \"end station longitude\", \"end_day\", \"end_hour\"]).size().to_frame('size').reset_index()"
   ]
  },
  {
   "cell_type": "code",
   "execution_count": 89,
   "metadata": {},
   "outputs": [],
   "source": [
    "number_dropoffs.rename(columns={'end station name' : 'station name',\n",
    "                                'end station latitude': 'station latitude',\n",
    "                                'end station longitude': 'station longitude',\n",
    "                                'end_day':'day',\n",
    "                                'end_hour': 'hour',\n",
    "                                'size': 'number_dropoffs'}, inplace=True)"
   ]
  },
  {
   "cell_type": "code",
   "execution_count": 92,
   "metadata": {},
   "outputs": [],
   "source": [
    "number_pickups.rename(columns={'start station name' : 'station name',\n",
    "                               'start station latitude': 'station latitude',\n",
    "                               'start station longitude': 'station longitude',\n",
    "                               'start_day': 'day',\n",
    "                               'start_hour': 'hour',\n",
    "                              'size': 'number_pickups'}, inplace=True)"
   ]
  },
  {
   "cell_type": "code",
   "execution_count": 93,
   "metadata": {},
   "outputs": [
    {
     "data": {
      "text/html": [
       "<div>\n",
       "<style scoped>\n",
       "    .dataframe tbody tr th:only-of-type {\n",
       "        vertical-align: middle;\n",
       "    }\n",
       "\n",
       "    .dataframe tbody tr th {\n",
       "        vertical-align: top;\n",
       "    }\n",
       "\n",
       "    .dataframe thead th {\n",
       "        text-align: right;\n",
       "    }\n",
       "</style>\n",
       "<table border=\"1\" class=\"dataframe\">\n",
       "  <thead>\n",
       "    <tr style=\"text-align: right;\">\n",
       "      <th></th>\n",
       "      <th>station name</th>\n",
       "      <th>station latitude</th>\n",
       "      <th>station longitude</th>\n",
       "      <th>day</th>\n",
       "      <th>hour</th>\n",
       "      <th>number_dropoffs</th>\n",
       "    </tr>\n",
       "  </thead>\n",
       "  <tbody>\n",
       "    <tr>\n",
       "      <th>0</th>\n",
       "      <td>1 Ave &amp; E 110 St</td>\n",
       "      <td>40.792327</td>\n",
       "      <td>-73.9383</td>\n",
       "      <td>1</td>\n",
       "      <td>0</td>\n",
       "      <td>1</td>\n",
       "    </tr>\n",
       "    <tr>\n",
       "      <th>1</th>\n",
       "      <td>1 Ave &amp; E 110 St</td>\n",
       "      <td>40.792327</td>\n",
       "      <td>-73.9383</td>\n",
       "      <td>1</td>\n",
       "      <td>2</td>\n",
       "      <td>2</td>\n",
       "    </tr>\n",
       "  </tbody>\n",
       "</table>\n",
       "</div>"
      ],
      "text/plain": [
       "       station name  station latitude  station longitude  day  hour  \\\n",
       "0  1 Ave & E 110 St         40.792327           -73.9383    1     0   \n",
       "1  1 Ave & E 110 St         40.792327           -73.9383    1     2   \n",
       "\n",
       "   number_dropoffs  \n",
       "0                1  \n",
       "1                2  "
      ]
     },
     "execution_count": 93,
     "metadata": {},
     "output_type": "execute_result"
    }
   ],
   "source": [
    "number_dropoffs.head(2)"
   ]
  },
  {
   "cell_type": "code",
   "execution_count": 94,
   "metadata": {},
   "outputs": [
    {
     "data": {
      "text/html": [
       "<div>\n",
       "<style scoped>\n",
       "    .dataframe tbody tr th:only-of-type {\n",
       "        vertical-align: middle;\n",
       "    }\n",
       "\n",
       "    .dataframe tbody tr th {\n",
       "        vertical-align: top;\n",
       "    }\n",
       "\n",
       "    .dataframe thead th {\n",
       "        text-align: right;\n",
       "    }\n",
       "</style>\n",
       "<table border=\"1\" class=\"dataframe\">\n",
       "  <thead>\n",
       "    <tr style=\"text-align: right;\">\n",
       "      <th></th>\n",
       "      <th>station name</th>\n",
       "      <th>station latitude</th>\n",
       "      <th>station longitude</th>\n",
       "      <th>day</th>\n",
       "      <th>hour</th>\n",
       "      <th>number_pickups</th>\n",
       "    </tr>\n",
       "  </thead>\n",
       "  <tbody>\n",
       "    <tr>\n",
       "      <th>0</th>\n",
       "      <td>1 Ave &amp; E 110 St</td>\n",
       "      <td>40.792327</td>\n",
       "      <td>-73.9383</td>\n",
       "      <td>1</td>\n",
       "      <td>7</td>\n",
       "      <td>1</td>\n",
       "    </tr>\n",
       "    <tr>\n",
       "      <th>1</th>\n",
       "      <td>1 Ave &amp; E 110 St</td>\n",
       "      <td>40.792327</td>\n",
       "      <td>-73.9383</td>\n",
       "      <td>1</td>\n",
       "      <td>11</td>\n",
       "      <td>1</td>\n",
       "    </tr>\n",
       "  </tbody>\n",
       "</table>\n",
       "</div>"
      ],
      "text/plain": [
       "       station name  station latitude  station longitude  day  hour  \\\n",
       "0  1 Ave & E 110 St         40.792327           -73.9383    1     7   \n",
       "1  1 Ave & E 110 St         40.792327           -73.9383    1    11   \n",
       "\n",
       "   number_pickups  \n",
       "0               1  \n",
       "1               1  "
      ]
     },
     "execution_count": 94,
     "metadata": {},
     "output_type": "execute_result"
    }
   ],
   "source": [
    "number_pickups.head(2)"
   ]
  },
  {
   "cell_type": "code",
   "execution_count": 95,
   "metadata": {},
   "outputs": [],
   "source": [
    "start_complete_test = number_pickups.merge(number_dropoffs,\n",
    "                                           how='outer',\n",
    "                                           on=['station name', 'station latitude', 'station longitude',\n",
    "                                               'day', 'hour'])"
   ]
  },
  {
   "cell_type": "code",
   "execution_count": 121,
   "metadata": {},
   "outputs": [
    {
     "data": {
      "text/html": [
       "<div>\n",
       "<style scoped>\n",
       "    .dataframe tbody tr th:only-of-type {\n",
       "        vertical-align: middle;\n",
       "    }\n",
       "\n",
       "    .dataframe tbody tr th {\n",
       "        vertical-align: top;\n",
       "    }\n",
       "\n",
       "    .dataframe thead th {\n",
       "        text-align: right;\n",
       "    }\n",
       "</style>\n",
       "<table border=\"1\" class=\"dataframe\">\n",
       "  <thead>\n",
       "    <tr style=\"text-align: right;\">\n",
       "      <th></th>\n",
       "      <th>station name</th>\n",
       "      <th>station latitude</th>\n",
       "      <th>station longitude</th>\n",
       "      <th>day</th>\n",
       "      <th>hour</th>\n",
       "      <th>number_pickups</th>\n",
       "      <th>number_dropoffs</th>\n",
       "    </tr>\n",
       "  </thead>\n",
       "  <tbody>\n",
       "    <tr>\n",
       "      <th>358</th>\n",
       "      <td>1 Ave &amp; E 16 St</td>\n",
       "      <td>40.732219</td>\n",
       "      <td>-73.981656</td>\n",
       "      <td>1</td>\n",
       "      <td>0</td>\n",
       "      <td>4.0</td>\n",
       "      <td>4.0</td>\n",
       "    </tr>\n",
       "    <tr>\n",
       "      <th>957</th>\n",
       "      <td>1 Ave &amp; E 18 St</td>\n",
       "      <td>40.733812</td>\n",
       "      <td>-73.980544</td>\n",
       "      <td>1</td>\n",
       "      <td>0</td>\n",
       "      <td>2.0</td>\n",
       "      <td>1.0</td>\n",
       "    </tr>\n",
       "    <tr>\n",
       "      <th>1511</th>\n",
       "      <td>1 Ave &amp; E 30 St</td>\n",
       "      <td>40.741444</td>\n",
       "      <td>-73.975361</td>\n",
       "      <td>1</td>\n",
       "      <td>0</td>\n",
       "      <td>1.0</td>\n",
       "      <td>NaN</td>\n",
       "    </tr>\n",
       "    <tr>\n",
       "      <th>2961</th>\n",
       "      <td>1 Ave &amp; E 62 St</td>\n",
       "      <td>40.761227</td>\n",
       "      <td>-73.960940</td>\n",
       "      <td>1</td>\n",
       "      <td>0</td>\n",
       "      <td>1.0</td>\n",
       "      <td>1.0</td>\n",
       "    </tr>\n",
       "    <tr>\n",
       "      <th>3513</th>\n",
       "      <td>1 Ave &amp; E 68 St</td>\n",
       "      <td>40.765005</td>\n",
       "      <td>-73.958185</td>\n",
       "      <td>1</td>\n",
       "      <td>0</td>\n",
       "      <td>1.0</td>\n",
       "      <td>NaN</td>\n",
       "    </tr>\n",
       "    <tr>\n",
       "      <th>...</th>\n",
       "      <td>...</td>\n",
       "      <td>...</td>\n",
       "      <td>...</td>\n",
       "      <td>...</td>\n",
       "      <td>...</td>\n",
       "      <td>...</td>\n",
       "      <td>...</td>\n",
       "    </tr>\n",
       "    <tr>\n",
       "      <th>358987</th>\n",
       "      <td>W 76 St &amp; Columbus Ave</td>\n",
       "      <td>40.780184</td>\n",
       "      <td>-73.977285</td>\n",
       "      <td>31</td>\n",
       "      <td>23</td>\n",
       "      <td>NaN</td>\n",
       "      <td>1.0</td>\n",
       "    </tr>\n",
       "    <tr>\n",
       "      <th>359751</th>\n",
       "      <td>W Broadway &amp; Spring St</td>\n",
       "      <td>40.724947</td>\n",
       "      <td>-74.001659</td>\n",
       "      <td>31</td>\n",
       "      <td>23</td>\n",
       "      <td>NaN</td>\n",
       "      <td>1.0</td>\n",
       "    </tr>\n",
       "    <tr>\n",
       "      <th>359851</th>\n",
       "      <td>Wall St &amp; South St</td>\n",
       "      <td>40.704370</td>\n",
       "      <td>-74.006370</td>\n",
       "      <td>31</td>\n",
       "      <td>23</td>\n",
       "      <td>NaN</td>\n",
       "      <td>2.0</td>\n",
       "    </tr>\n",
       "    <tr>\n",
       "      <th>361023</th>\n",
       "      <td>West End Ave &amp; W 94 St</td>\n",
       "      <td>40.794165</td>\n",
       "      <td>-73.974124</td>\n",
       "      <td>31</td>\n",
       "      <td>23</td>\n",
       "      <td>NaN</td>\n",
       "      <td>1.0</td>\n",
       "    </tr>\n",
       "    <tr>\n",
       "      <th>361126</th>\n",
       "      <td>West Thames St</td>\n",
       "      <td>40.708347</td>\n",
       "      <td>-74.017134</td>\n",
       "      <td>31</td>\n",
       "      <td>23</td>\n",
       "      <td>NaN</td>\n",
       "      <td>2.0</td>\n",
       "    </tr>\n",
       "  </tbody>\n",
       "</table>\n",
       "<p>362767 rows × 7 columns</p>\n",
       "</div>"
      ],
      "text/plain": [
       "                  station name  station latitude  station longitude  day  \\\n",
       "358            1 Ave & E 16 St         40.732219         -73.981656    1   \n",
       "957            1 Ave & E 18 St         40.733812         -73.980544    1   \n",
       "1511           1 Ave & E 30 St         40.741444         -73.975361    1   \n",
       "2961           1 Ave & E 62 St         40.761227         -73.960940    1   \n",
       "3513           1 Ave & E 68 St         40.765005         -73.958185    1   \n",
       "...                        ...               ...                ...  ...   \n",
       "358987  W 76 St & Columbus Ave         40.780184         -73.977285   31   \n",
       "359751  W Broadway & Spring St         40.724947         -74.001659   31   \n",
       "359851      Wall St & South St         40.704370         -74.006370   31   \n",
       "361023  West End Ave & W 94 St         40.794165         -73.974124   31   \n",
       "361126          West Thames St         40.708347         -74.017134   31   \n",
       "\n",
       "        hour  number_pickups  number_dropoffs  \n",
       "358        0             4.0              4.0  \n",
       "957        0             2.0              1.0  \n",
       "1511       0             1.0              NaN  \n",
       "2961       0             1.0              1.0  \n",
       "3513       0             1.0              NaN  \n",
       "...      ...             ...              ...  \n",
       "358987    23             NaN              1.0  \n",
       "359751    23             NaN              1.0  \n",
       "359851    23             NaN              2.0  \n",
       "361023    23             NaN              1.0  \n",
       "361126    23             NaN              2.0  \n",
       "\n",
       "[362767 rows x 7 columns]"
      ]
     },
     "execution_count": 121,
     "metadata": {},
     "output_type": "execute_result"
    }
   ],
   "source": [
    "start_complete_test.sort_values(by = ['day', 'hour'], ascending=True)"
   ]
  },
  {
   "cell_type": "markdown",
   "metadata": {},
   "source": [
    "## check that outer join works as intended"
   ]
  },
  {
   "cell_type": "code",
   "execution_count": null,
   "metadata": {},
   "outputs": [],
   "source": [
    "\n",
    "\n",
    "start_complete_test[start_complete_test['station name'] == 'Wythe Ave & Metropolitan Ave'].sort_values(by = ['day','hour'], ascending = False).head(8)"
   ]
  },
  {
   "cell_type": "code",
   "execution_count": 133,
   "metadata": {},
   "outputs": [
    {
     "data": {
      "text/plain": [
       "1067766   2020-03-31 21:07:48.489\n",
       "1067012   2020-03-31 19:51:23.426\n",
       "1066681   2020-03-31 19:30:42.345\n",
       "1064909   2020-03-31 18:16:58.916\n",
       "1064155   2020-03-31 17:51:12.594\n",
       "1064122   2020-03-31 17:50:06.737\n",
       "1063108   2020-03-31 17:13:33.555\n",
       "1058098   2020-03-31 13:06:52.793\n",
       "1056797   2020-03-31 11:33:57.077\n",
       "1056300   2020-03-31 10:44:38.808\n",
       "1056230   2020-03-31 10:36:31.443\n",
       "Name: starttime, dtype: datetime64[ns]"
      ]
     },
     "execution_count": 133,
     "metadata": {},
     "output_type": "execute_result"
    }
   ],
   "source": [
    "citibike[citibike['start station name'] == \n",
    "         'Wythe Ave & Metropolitan Ave'].sort_values(by = 'starttime', ascending = False)['starttime'].head(11)"
   ]
  },
  {
   "cell_type": "code",
   "execution_count": 97,
   "metadata": {},
   "outputs": [
    {
     "data": {
      "text/plain": [
       "<matplotlib.axes._subplots.AxesSubplot at 0x1389a7190>"
      ]
     },
     "execution_count": 97,
     "metadata": {},
     "output_type": "execute_result"
    },
    {
     "data": {
      "image/png": "[encoded data removed]",
      "text/plain": [
       "<Figure size 1800x720 with 2 Axes>"
      ]
     },
     "metadata": {
      "needs_background": "light"
     },
     "output_type": "display_data"
    }
   ],
   "source": [
    "msno.matrix(start_complete_test)"
   ]
  },
  {
   "cell_type": "code",
   "execution_count": 177,
   "metadata": {},
   "outputs": [],
   "source": [
    "df_citibike = start_complete_test.fillna(0).sort_values(by = ['day','hour','station name'], ascending = True)"
   ]
  },
  {
   "cell_type": "code",
   "execution_count": 142,
   "metadata": {},
   "outputs": [],
   "source": [
    "from shapely.geometry import Point"
   ]
  },
  {
   "cell_type": "code",
   "execution_count": 160,
   "metadata": {},
   "outputs": [],
   "source": [
    "# df_citibike['testy'] = df_citibike.apply( lambda row: row['station name'], axis=1)"
   ]
  },
  {
   "cell_type": "code",
   "execution_count": 178,
   "metadata": {},
   "outputs": [],
   "source": [
    "df_citibike['geometry'] =df_citibike.apply( lambda row: Point(row['station longitude'], row['station latitude'] ), axis=1)"
   ]
  },
  {
   "cell_type": "code",
   "execution_count": 168,
   "metadata": {},
   "outputs": [],
   "source": [
    "from geopandas import GeoDataFrame"
   ]
  },
  {
   "cell_type": "code",
   "execution_count": 179,
   "metadata": {
    "scrolled": true
   },
   "outputs": [],
   "source": [
    "df_citibike = GeoDataFrame(df_citibike, geometry='geometry')\n",
    "# , crs='epsg:4326')"
   ]
  },
  {
   "cell_type": "code",
   "execution_count": 180,
   "metadata": {},
   "outputs": [],
   "source": [
    "df_citibike = df_citibike.reset_index()"
   ]
  },
  {
   "cell_type": "code",
   "execution_count": 207,
   "metadata": {},
   "outputs": [],
   "source": [
    "df_citibike['actitivy'] = df_citibike['number_pickups'] + df_citibike['number_dropoffs']"
   ]
  },
  {
   "cell_type": "code",
   "execution_count": 209,
   "metadata": {},
   "outputs": [],
   "source": [
    "df_citibike['net_pickups'] = df_citibike['number_pickups'] - df_citibike['number_dropoffs']"
   ]
  },
  {
   "cell_type": "code",
   "execution_count": 210,
   "metadata": {},
   "outputs": [
    {
     "data": {
      "text/html": [
       "<div>\n",
       "<style scoped>\n",
       "    .dataframe tbody tr th:only-of-type {\n",
       "        vertical-align: middle;\n",
       "    }\n",
       "\n",
       "    .dataframe tbody tr th {\n",
       "        vertical-align: top;\n",
       "    }\n",
       "\n",
       "    .dataframe thead th {\n",
       "        text-align: right;\n",
       "    }\n",
       "</style>\n",
       "<table border=\"1\" class=\"dataframe\">\n",
       "  <thead>\n",
       "    <tr style=\"text-align: right;\">\n",
       "      <th></th>\n",
       "      <th>index</th>\n",
       "      <th>station name</th>\n",
       "      <th>station latitude</th>\n",
       "      <th>station longitude</th>\n",
       "      <th>day</th>\n",
       "      <th>hour</th>\n",
       "      <th>number_pickups</th>\n",
       "      <th>number_dropoffs</th>\n",
       "      <th>geometry</th>\n",
       "      <th>actitivy</th>\n",
       "      <th>net_pickups</th>\n",
       "    </tr>\n",
       "  </thead>\n",
       "  <tbody>\n",
       "    <tr>\n",
       "      <th>0</th>\n",
       "      <td>291675</td>\n",
       "      <td>1 Ave &amp; E 110 St</td>\n",
       "      <td>40.792327</td>\n",
       "      <td>-73.938300</td>\n",
       "      <td>1</td>\n",
       "      <td>0</td>\n",
       "      <td>0.0</td>\n",
       "      <td>1.0</td>\n",
       "      <td>POINT (-73.93830 40.79233)</td>\n",
       "      <td>1.0</td>\n",
       "      <td>-1.0</td>\n",
       "    </tr>\n",
       "    <tr>\n",
       "      <th>1</th>\n",
       "      <td>358</td>\n",
       "      <td>1 Ave &amp; E 16 St</td>\n",
       "      <td>40.732219</td>\n",
       "      <td>-73.981656</td>\n",
       "      <td>1</td>\n",
       "      <td>0</td>\n",
       "      <td>4.0</td>\n",
       "      <td>4.0</td>\n",
       "      <td>POINT (-73.98166 40.73222)</td>\n",
       "      <td>8.0</td>\n",
       "      <td>0.0</td>\n",
       "    </tr>\n",
       "    <tr>\n",
       "      <th>2</th>\n",
       "      <td>957</td>\n",
       "      <td>1 Ave &amp; E 18 St</td>\n",
       "      <td>40.733812</td>\n",
       "      <td>-73.980544</td>\n",
       "      <td>1</td>\n",
       "      <td>0</td>\n",
       "      <td>2.0</td>\n",
       "      <td>1.0</td>\n",
       "      <td>POINT (-73.98054 40.73381)</td>\n",
       "      <td>3.0</td>\n",
       "      <td>1.0</td>\n",
       "    </tr>\n",
       "    <tr>\n",
       "      <th>3</th>\n",
       "      <td>1511</td>\n",
       "      <td>1 Ave &amp; E 30 St</td>\n",
       "      <td>40.741444</td>\n",
       "      <td>-73.975361</td>\n",
       "      <td>1</td>\n",
       "      <td>0</td>\n",
       "      <td>1.0</td>\n",
       "      <td>0.0</td>\n",
       "      <td>POINT (-73.97536 40.74144)</td>\n",
       "      <td>1.0</td>\n",
       "      <td>1.0</td>\n",
       "    </tr>\n",
       "    <tr>\n",
       "      <th>4</th>\n",
       "      <td>2961</td>\n",
       "      <td>1 Ave &amp; E 62 St</td>\n",
       "      <td>40.761227</td>\n",
       "      <td>-73.960940</td>\n",
       "      <td>1</td>\n",
       "      <td>0</td>\n",
       "      <td>1.0</td>\n",
       "      <td>1.0</td>\n",
       "      <td>POINT (-73.96094 40.76123)</td>\n",
       "      <td>2.0</td>\n",
       "      <td>0.0</td>\n",
       "    </tr>\n",
       "  </tbody>\n",
       "</table>\n",
       "</div>"
      ],
      "text/plain": [
       "    index      station name  station latitude  station longitude  day  hour  \\\n",
       "0  291675  1 Ave & E 110 St         40.792327         -73.938300    1     0   \n",
       "1     358   1 Ave & E 16 St         40.732219         -73.981656    1     0   \n",
       "2     957   1 Ave & E 18 St         40.733812         -73.980544    1     0   \n",
       "3    1511   1 Ave & E 30 St         40.741444         -73.975361    1     0   \n",
       "4    2961   1 Ave & E 62 St         40.761227         -73.960940    1     0   \n",
       "\n",
       "   number_pickups  number_dropoffs                    geometry  actitivy  \\\n",
       "0             0.0              1.0  POINT (-73.93830 40.79233)       1.0   \n",
       "1             4.0              4.0  POINT (-73.98166 40.73222)       8.0   \n",
       "2             2.0              1.0  POINT (-73.98054 40.73381)       3.0   \n",
       "3             1.0              0.0  POINT (-73.97536 40.74144)       1.0   \n",
       "4             1.0              1.0  POINT (-73.96094 40.76123)       2.0   \n",
       "\n",
       "   net_pickups  \n",
       "0         -1.0  \n",
       "1          0.0  \n",
       "2          1.0  \n",
       "3          1.0  \n",
       "4          0.0  "
      ]
     },
     "execution_count": 210,
     "metadata": {},
     "output_type": "execute_result"
    }
   ],
   "source": [
    "df_citibike.head(5)"
   ]
  },
  {
   "cell_type": "code",
   "execution_count": 184,
   "metadata": {},
   "outputs": [
    {
     "data": {
      "text/plain": [
       "(362767, 9)"
      ]
     },
     "execution_count": 184,
     "metadata": {},
     "output_type": "execute_result"
    }
   ],
   "source": [
    "df_citibike.shape"
   ]
  },
  {
   "cell_type": "markdown",
   "metadata": {},
   "source": [
    "# Part B: merge with Neighborhoods"
   ]
  },
  {
   "cell_type": "code",
   "execution_count": 17,
   "metadata": {},
   "outputs": [],
   "source": [
    "nyc_nta_geojson = 'https://data.cityofnewyork.us/api/geospatial/cpf4-rkhq?method=export&format=GeoJSON'\n",
    "\n",
    "\n",
    "nta_gdf = gpd.read_file(nyc_nta_geojson)\n",
    "# nta_gdf.to_crs(epsg=2263, inplace=True)"
   ]
  },
  {
   "cell_type": "code",
   "execution_count": 24,
   "metadata": {
    "scrolled": true
   },
   "outputs": [
    {
     "data": {
      "text/html": [
       "<div>\n",
       "<style scoped>\n",
       "    .dataframe tbody tr th:only-of-type {\n",
       "        vertical-align: middle;\n",
       "    }\n",
       "\n",
       "    .dataframe tbody tr th {\n",
       "        vertical-align: top;\n",
       "    }\n",
       "\n",
       "    .dataframe thead th {\n",
       "        text-align: right;\n",
       "    }\n",
       "</style>\n",
       "<table border=\"1\" class=\"dataframe\">\n",
       "  <thead>\n",
       "    <tr style=\"text-align: right;\">\n",
       "      <th></th>\n",
       "      <th>ntacode</th>\n",
       "      <th>shape_area</th>\n",
       "      <th>county_fips</th>\n",
       "      <th>ntaname</th>\n",
       "      <th>shape_leng</th>\n",
       "      <th>boro_name</th>\n",
       "      <th>boro_code</th>\n",
       "      <th>geometry</th>\n",
       "    </tr>\n",
       "  </thead>\n",
       "  <tbody>\n",
       "    <tr>\n",
       "      <th>0</th>\n",
       "      <td>BK88</td>\n",
       "      <td>54005019.048</td>\n",
       "      <td>047</td>\n",
       "      <td>Borough Park</td>\n",
       "      <td>39247.2278309</td>\n",
       "      <td>Brooklyn</td>\n",
       "      <td>3</td>\n",
       "      <td>MULTIPOLYGON (((-73.97605 40.63128, -73.97717 ...</td>\n",
       "    </tr>\n",
       "    <tr>\n",
       "      <th>1</th>\n",
       "      <td>QN51</td>\n",
       "      <td>52488277.846</td>\n",
       "      <td>081</td>\n",
       "      <td>Murray Hill</td>\n",
       "      <td>33266.9047967</td>\n",
       "      <td>Queens</td>\n",
       "      <td>4</td>\n",
       "      <td>MULTIPOLYGON (((-73.80379 40.77561, -73.80099 ...</td>\n",
       "    </tr>\n",
       "  </tbody>\n",
       "</table>\n",
       "</div>"
      ],
      "text/plain": [
       "  ntacode    shape_area county_fips       ntaname     shape_leng boro_name  \\\n",
       "0    BK88  54005019.048         047  Borough Park  39247.2278309  Brooklyn   \n",
       "1    QN51  52488277.846         081   Murray Hill  33266.9047967    Queens   \n",
       "\n",
       "  boro_code                                           geometry  \n",
       "0         3  MULTIPOLYGON (((-73.97605 40.63128, -73.97717 ...  \n",
       "1         4  MULTIPOLYGON (((-73.80379 40.77561, -73.80099 ...  "
      ]
     },
     "execution_count": 24,
     "metadata": {},
     "output_type": "execute_result"
    }
   ],
   "source": [
    "nta_gdf.head(2)"
   ]
  },
  {
   "cell_type": "code",
   "execution_count": 197,
   "metadata": {},
   "outputs": [],
   "source": [
    "nta_gdf.drop(nta_gdf[nta_gdf['boro_name'] == 'Staten Island'].index, inplace=True)"
   ]
  },
  {
   "cell_type": "code",
   "execution_count": 198,
   "metadata": {},
   "outputs": [
    {
     "data": {
      "text/plain": [
       "(176, 8)"
      ]
     },
     "execution_count": 198,
     "metadata": {},
     "output_type": "execute_result"
    }
   ],
   "source": [
    "nta_gdf.shape"
   ]
  },
  {
   "cell_type": "markdown",
   "metadata": {},
   "source": [
    "### figure out the architecture first"
   ]
  },
  {
   "cell_type": "code",
   "execution_count": 204,
   "metadata": {},
   "outputs": [],
   "source": [
    "   bikes_in_nyc = gpd.sjoin(  # sjoin stands for spatial join\n",
    "       \n",
    "        df_citibike,\n",
    "       nta_gdf,\n",
    "        how='left',\n",
    "        op='intersects',\n",
    "    )"
   ]
  },
  {
   "cell_type": "code",
   "execution_count": 212,
   "metadata": {},
   "outputs": [],
   "source": [
    "bikes_in_nyc = bikes_in_nyc.drop(['index'], axis=1)"
   ]
  },
  {
   "cell_type": "code",
   "execution_count": 213,
   "metadata": {},
   "outputs": [
    {
     "data": {
      "text/html": [
       "<div>\n",
       "<style scoped>\n",
       "    .dataframe tbody tr th:only-of-type {\n",
       "        vertical-align: middle;\n",
       "    }\n",
       "\n",
       "    .dataframe tbody tr th {\n",
       "        vertical-align: top;\n",
       "    }\n",
       "\n",
       "    .dataframe thead th {\n",
       "        text-align: right;\n",
       "    }\n",
       "</style>\n",
       "<table border=\"1\" class=\"dataframe\">\n",
       "  <thead>\n",
       "    <tr style=\"text-align: right;\">\n",
       "      <th></th>\n",
       "      <th>station name</th>\n",
       "      <th>station latitude</th>\n",
       "      <th>station longitude</th>\n",
       "      <th>day</th>\n",
       "      <th>hour</th>\n",
       "      <th>number_pickups</th>\n",
       "      <th>number_dropoffs</th>\n",
       "      <th>geometry</th>\n",
       "      <th>index_right</th>\n",
       "      <th>ntacode</th>\n",
       "      <th>shape_area</th>\n",
       "      <th>county_fips</th>\n",
       "      <th>ntaname</th>\n",
       "      <th>shape_leng</th>\n",
       "      <th>boro_name</th>\n",
       "      <th>boro_code</th>\n",
       "    </tr>\n",
       "  </thead>\n",
       "  <tbody>\n",
       "    <tr>\n",
       "      <th>0</th>\n",
       "      <td>1 Ave &amp; E 110 St</td>\n",
       "      <td>40.792327</td>\n",
       "      <td>-73.938300</td>\n",
       "      <td>1</td>\n",
       "      <td>0</td>\n",
       "      <td>0.0</td>\n",
       "      <td>1.0</td>\n",
       "      <td>POINT (-73.93830 40.79233)</td>\n",
       "      <td>179.0</td>\n",
       "      <td>MN34</td>\n",
       "      <td>24494898.4181</td>\n",
       "      <td>061</td>\n",
       "      <td>East Harlem North</td>\n",
       "      <td>30603.7188842</td>\n",
       "      <td>Manhattan</td>\n",
       "      <td>1</td>\n",
       "    </tr>\n",
       "    <tr>\n",
       "      <th>1</th>\n",
       "      <td>1 Ave &amp; E 16 St</td>\n",
       "      <td>40.732219</td>\n",
       "      <td>-73.981656</td>\n",
       "      <td>1</td>\n",
       "      <td>0</td>\n",
       "      <td>4.0</td>\n",
       "      <td>4.0</td>\n",
       "      <td>POINT (-73.98166 40.73222)</td>\n",
       "      <td>154.0</td>\n",
       "      <td>MN50</td>\n",
       "      <td>5582283.01555</td>\n",
       "      <td>061</td>\n",
       "      <td>Stuyvesant Town-Cooper Village</td>\n",
       "      <td>12021.7903016</td>\n",
       "      <td>Manhattan</td>\n",
       "      <td>1</td>\n",
       "    </tr>\n",
       "    <tr>\n",
       "      <th>2</th>\n",
       "      <td>1 Ave &amp; E 18 St</td>\n",
       "      <td>40.733812</td>\n",
       "      <td>-73.980544</td>\n",
       "      <td>1</td>\n",
       "      <td>0</td>\n",
       "      <td>2.0</td>\n",
       "      <td>1.0</td>\n",
       "      <td>POINT (-73.98054 40.73381)</td>\n",
       "      <td>154.0</td>\n",
       "      <td>MN50</td>\n",
       "      <td>5582283.01555</td>\n",
       "      <td>061</td>\n",
       "      <td>Stuyvesant Town-Cooper Village</td>\n",
       "      <td>12021.7903016</td>\n",
       "      <td>Manhattan</td>\n",
       "      <td>1</td>\n",
       "    </tr>\n",
       "    <tr>\n",
       "      <th>3</th>\n",
       "      <td>1 Ave &amp; E 30 St</td>\n",
       "      <td>40.741444</td>\n",
       "      <td>-73.975361</td>\n",
       "      <td>1</td>\n",
       "      <td>0</td>\n",
       "      <td>1.0</td>\n",
       "      <td>0.0</td>\n",
       "      <td>POINT (-73.97536 40.74144)</td>\n",
       "      <td>158.0</td>\n",
       "      <td>MN20</td>\n",
       "      <td>14485874.7728</td>\n",
       "      <td>061</td>\n",
       "      <td>Murray Hill-Kips Bay</td>\n",
       "      <td>24491.3105701</td>\n",
       "      <td>Manhattan</td>\n",
       "      <td>1</td>\n",
       "    </tr>\n",
       "    <tr>\n",
       "      <th>4</th>\n",
       "      <td>1 Ave &amp; E 62 St</td>\n",
       "      <td>40.761227</td>\n",
       "      <td>-73.960940</td>\n",
       "      <td>1</td>\n",
       "      <td>0</td>\n",
       "      <td>1.0</td>\n",
       "      <td>1.0</td>\n",
       "      <td>POINT (-73.96094 40.76123)</td>\n",
       "      <td>171.0</td>\n",
       "      <td>MN31</td>\n",
       "      <td>21508615.7643</td>\n",
       "      <td>061</td>\n",
       "      <td>Lenox Hill-Roosevelt Island</td>\n",
       "      <td>39424.2257068</td>\n",
       "      <td>Manhattan</td>\n",
       "      <td>1</td>\n",
       "    </tr>\n",
       "  </tbody>\n",
       "</table>\n",
       "</div>"
      ],
      "text/plain": [
       "       station name  station latitude  station longitude  day  hour  \\\n",
       "0  1 Ave & E 110 St         40.792327         -73.938300    1     0   \n",
       "1   1 Ave & E 16 St         40.732219         -73.981656    1     0   \n",
       "2   1 Ave & E 18 St         40.733812         -73.980544    1     0   \n",
       "3   1 Ave & E 30 St         40.741444         -73.975361    1     0   \n",
       "4   1 Ave & E 62 St         40.761227         -73.960940    1     0   \n",
       "\n",
       "   number_pickups  number_dropoffs                    geometry  index_right  \\\n",
       "0             0.0              1.0  POINT (-73.93830 40.79233)        179.0   \n",
       "1             4.0              4.0  POINT (-73.98166 40.73222)        154.0   \n",
       "2             2.0              1.0  POINT (-73.98054 40.73381)        154.0   \n",
       "3             1.0              0.0  POINT (-73.97536 40.74144)        158.0   \n",
       "4             1.0              1.0  POINT (-73.96094 40.76123)        171.0   \n",
       "\n",
       "  ntacode     shape_area county_fips                         ntaname  \\\n",
       "0    MN34  24494898.4181         061               East Harlem North   \n",
       "1    MN50  5582283.01555         061  Stuyvesant Town-Cooper Village   \n",
       "2    MN50  5582283.01555         061  Stuyvesant Town-Cooper Village   \n",
       "3    MN20  14485874.7728         061            Murray Hill-Kips Bay   \n",
       "4    MN31  21508615.7643         061     Lenox Hill-Roosevelt Island   \n",
       "\n",
       "      shape_leng  boro_name boro_code  \n",
       "0  30603.7188842  Manhattan         1  \n",
       "1  12021.7903016  Manhattan         1  \n",
       "2  12021.7903016  Manhattan         1  \n",
       "3  24491.3105701  Manhattan         1  \n",
       "4  39424.2257068  Manhattan         1  "
      ]
     },
     "execution_count": 213,
     "metadata": {},
     "output_type": "execute_result"
    }
   ],
   "source": [
    "bikes_in_nyc.head()"
   ]
  },
  {
   "cell_type": "code",
   "execution_count": 211,
   "metadata": {},
   "outputs": [
    {
     "data": {
      "text/plain": [
       "<matplotlib.axes._subplots.AxesSubplot at 0x13ba7b9d0>"
      ]
     },
     "execution_count": 211,
     "metadata": {},
     "output_type": "execute_result"
    },
    {
     "data": {
      "image/png": "[encoded data removed]",
      "text/plain": [
       "<Figure size 432x288 with 1 Axes>"
      ]
     },
     "metadata": {
      "needs_background": "light"
     },
     "output_type": "display_data"
    }
   ],
   "source": [
    "bikes_in_nyc.plot()"
   ]
  },
  {
   "cell_type": "code",
   "execution_count": null,
   "metadata": {},
   "outputs": [],
   "source": []
  }
 ],
 "metadata": {
  "kernelspec": {
   "display_name": "Python 3",
   "language": "python",
   "name": "python3"
  },
  "language_info": {
   "codemirror_mode": {
    "name": "ipython",
    "version": 3
   },
   "file_extension": ".py",
   "mimetype": "text/x-python",
   "name": "python",
   "nbconvert_exporter": "python",
   "pygments_lexer": "ipython3",
   "version": "3.8.2"
  }
 },
 "nbformat": 4,
 "nbformat_minor": 4
}
